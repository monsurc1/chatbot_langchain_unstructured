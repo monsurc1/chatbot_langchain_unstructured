{
 "cells": [
  {
   "cell_type": "markdown",
   "metadata": {},
   "source": [
    "### This work is a folow-up experiment from the file 'test_text_tables_figure' "
   ]
  },
  {
   "cell_type": "markdown",
   "metadata": {},
   "source": [
    "This experiment explains how to use LangChain and Langchain's Unstructured package which can be used to get<br> the information from tables anf images in a complex pdf files"
   ]
  },
  {
   "cell_type": "code",
   "execution_count": 2,
   "metadata": {},
   "outputs": [],
   "source": [
    "import os\n",
    "from langchain_community.document_loaders import UnstructuredFileLoader\n",
    "from langchain_community.document_loaders import UnstructuredPDFLoader\n",
    "from langchain.embeddings import OpenAIEmbeddings\n",
    "from langchain.vectorstores import FAISS\n",
    "from langchain.chains import RetrievalQA\n",
    "from langchain_openai import ChatOpenAI"
   ]
  },
  {
   "cell_type": "code",
   "execution_count": 3,
   "metadata": {},
   "outputs": [],
   "source": [
    "# Set OpenAI API key\n",
    "#os.environ[\"OPENAI_API_KEY\"] = \"your_openai_api_key\"\n",
    "openai_api_key = \"sk-proj-iAqcDxetWAEokMERGj0lT3BlbkFJ3VQGvXfr3eOuUpkgMf3V\""
   ]
  },
  {
   "cell_type": "code",
   "execution_count": 18,
   "metadata": {},
   "outputs": [],
   "source": [
    "test_tables_figure_directory = \"test-tables-figures\"\n",
    "os.makedirs(test_tables_figure_directory, exist_ok=True)  # Create the directory if it doesn't exist"
   ]
  },
  {
   "cell_type": "code",
   "execution_count": 19,
   "metadata": {},
   "outputs": [],
   "source": [
    "#file_path = \"AAR_SI data2/Death of a RAF Service Person and serious injuries during British Service Mountaineering Expedition Pakistan July 2022.pdf\"\n",
    "\n",
    "raw_pdf_elements = UnstructuredPDFLoader(\n",
    "    file_path=\"AAR_SI data2/Death of a RAF Service Person and serious injuries during British Service Mountaineering Expedition Pakistan July 2022.pdf\",\n",
    "    strategy = \"hi_res\",\n",
    "    hi_res_model_name=\"yolox\",\n",
    "    mode=\"elements\",\n",
    "    infer_table_structure=True,\n",
    "    chunking_strategy=\"by_title\",\n",
    "    max_characters=4000,\n",
    "    new_after_n_chars=3800,\n",
    "    combine_text_under_n_chars=2000,\n",
    "    extract_images_in_pdf=True,\n",
    "    extract_image_block_types=[\"Image\", \"Table\"],\n",
    "    extract_image_block_to_payload=False,\n",
    "    extract_image_block_output_dir=test_tables_figure_directory\n",
    "    #image_output_dir_path=output_path,\n",
    ")"
   ]
  },
  {
   "cell_type": "markdown",
   "metadata": {},
   "source": [
    "we can use 'from langchain_community.document_loaders import PyPDFDirectoryLoader' to load a directory for files<br>\n",
    "directory_path = (\"../../docs/integrations/document_loaders/example_data/layout-parser-paper.pdf\")<br>\n",
    "loader = PyPDFDirectoryLoader(\"example_data/\")<br>\n",
    "docs = loader.load()"
   ]
  },
  {
   "cell_type": "code",
   "execution_count": 20,
   "metadata": {},
   "outputs": [],
   "source": [
    "documents = raw_pdf_elements.load()"
   ]
  },
  {
   "cell_type": "code",
   "execution_count": 21,
   "metadata": {},
   "outputs": [
    {
     "data": {
      "text/plain": [
       "137"
      ]
     },
     "execution_count": 21,
     "metadata": {},
     "output_type": "execute_result"
    }
   ],
   "source": [
    "len(documents)"
   ]
  },
  {
   "cell_type": "markdown",
   "metadata": {},
   "source": [
    "In the 'raw_pdf_elements', mode was disabled. as a result, len(documents) came 1. "
   ]
  },
  {
   "cell_type": "code",
   "execution_count": 23,
   "metadata": {},
   "outputs": [
    {
     "data": {
      "text/plain": [
       "'CompositeElement'"
      ]
     },
     "execution_count": 23,
     "metadata": {},
     "output_type": "execute_result"
    }
   ],
   "source": [
    "documents[0].metadata['category']"
   ]
  },
  {
   "cell_type": "code",
   "execution_count": 24,
   "metadata": {},
   "outputs": [
    {
     "data": {
      "text/plain": [
       "Document(page_content=\"Witness 01 Exhibit 02 Exhibit 13\\n\\nDeath of Wing Commander Henderson - 19 July 2022\\n\\n1.3.9. Arrival in Pakistan and initial activity. The Main Team arrived in Islamabad on 4 June 2022 and, following a period in Skardu, arrived at Askole (Figure 1.3.1) via road on 9 June 2022. They then trekked approximately 70km east to Broad Peak Base Camp (Figure 1.3.4), arriving on 15 June 2022. They conducted acclimatisation, consolidation training, and prepositioned food and equipment at camps higher up the mountain until 10 July 2022. During this period, the Development Team arrived in Islamabad on 9 July 2022. Whilst at Broad Peak Base Camp (4850m) there were five days of snowfall, from 11 July 2022 to 15 July 2022. This prevented the Main Team from leaving the camp. During this period, the Development Team arrived at Askole via road on 14 July 2022.\\n\\nWitness 01 Exhibit 02 Exhibit 13 Exhibit 16\\n\\n5 Source: BSME20 team member.\\n\\n1.3 - Page 4 of 22\\n\\nGFFIGIAL—SENSITIVE\\n\\nDSA/DG/S1/04/22/BSME20\\n\\nDSA/DG/S1/04/22/13SME20\\n\\n© Crown Copyright 2023\\n\\nOFFIGIAL—SENSHIVE\\n\\n1.3.10. Broad Peak Base Camp to Camp 3. On 16 July 2022, the conditions were considered suitable, by the expedition leader (EL), to conduct a summit attempt. Two summit teams were formed: Summit Team 1, comprising of six climbers and Summit Team 2 of four climbers. Summit Team 1 consisted of the EL, Team members 1 to 4 (MT-1 to 4) and Wg Cdr Henderson. Summit Team 2 consisted of Main Team members 5 to 8 (MT-5 to 8). Summit Team 1 commenced their departure from Broad Peak Base Camp (4850m) at approximately 22:00 on 16 July 2022 and arrived at Camp 2 (6250m) at approximately 08:00 on 17 July 2022 (Figure 1.3.4). They spent the day resting, rehydrating, and eating. Summit Team 2 departed Broad Peak Base Camp at approximately 22:00 on 17 July 2022 and were supported to Camp 1 (5500m) by Main Team member 9 (MT- 9) and Main Team member 10 (MT-10).6 Main Team member 11 (MT-11) remained at Broad Peak Base Camp as a central point of contact for communication with the two summit teams.' Summit Team 1 set off from Camp 2 for Camp 3 (7050m) at approximately 05:30 on 18 July 2022 (Figure 1.3.4) and arrived at approximately 10:00. They rested and prepared for a summit attempt that night. Summit Team 2 arrived at Camp 2 by 12:45 on 18 July 2022.\\n\\nWitness 01 Witness 02 Witness 03 Witness 04 Witness 05 Witness 08 Witness 09 Witness 10 Witness 12 Witness 13 Witness 14 Witness 15 Exhibit 16\\n\\nRocky Summit  8035m   Col  7800m   Broad Peak  Summit  8047m   Camp 3  7050m   •   Camp 2  625Orri   %-  Camp 1  5500m   Broad Peak  Base Camp  4850m   •  \\n\\nFigure 1.3.4 — Illustration of route to Broad Peak Summit.8\\n\\n6 MT-9 and MT-10 had not been beyond Camp 2 due to poor acclimatisation. The EL decided that they could not attempt to summit Broad Peak.\\n\\nMT-11 remained at Broad Peak Base Camp due to illness and deterioration.\\n\\nA Source: BSME20 team member. Edited by SI panel.\\n\\n1 3 - Page 5 of 22\", metadata={'source': 'AAR_SI data2/Death of a RAF Service Person and serious injuries during British Service Mountaineering Expedition Pakistan July 2022.pdf', 'filetype': 'application/pdf', 'languages': ['eng'], 'last_modified': '2024-05-22T13:44:00', 'page_number': 25, 'orig_elements': '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', 'file_directory': 'AAR_SI data2', 'filename': 'Death of a RAF Service Person and serious injuries during British Service Mountaineering Expedition Pakistan July 2022.pdf', 'category': 'CompositeElement'})"
      ]
     },
     "execution_count": 24,
     "metadata": {},
     "output_type": "execute_result"
    }
   ],
   "source": [
    "documents[21]"
   ]
  },
  {
   "cell_type": "markdown",
   "metadata": {},
   "source": [
    "<i>How many Categories?"
   ]
  },
  {
   "cell_type": "code",
   "execution_count": 25,
   "metadata": {},
   "outputs": [
    {
     "name": "stdout",
     "output_type": "stream",
     "text": [
      "Number of unique categories: 2\n",
      "Unique categories: ['CompositeElement', 'Table']\n"
     ]
    }
   ],
   "source": [
    "categories = set()  # Use a set to store unique categories\n",
    "\n",
    "# Iterate through each document and collect categories\n",
    "for document in documents:\n",
    "    category = document.metadata.get('category')  # Access the category\n",
    "    if category:  # Check if the category exists\n",
    "        categories.add(category)  # Add to the set\n",
    "\n",
    "# Convert the set to a list for easier display (optional)\n",
    "unique_categories = list(categories)\n",
    "\n",
    "# Output the results\n",
    "print(f\"Number of unique categories: {len(unique_categories)}\")\n",
    "print(\"Unique categories:\", unique_categories)"
   ]
  },
  {
   "cell_type": "code",
   "execution_count": 79,
   "metadata": {},
   "outputs": [
    {
     "data": {
      "text/plain": [
       "{'CompositeElement', 'Table'}"
      ]
     },
     "execution_count": 79,
     "metadata": {},
     "output_type": "execute_result"
    }
   ],
   "source": [
    "# USE unstructured's function to get the categories list\n",
    "{doc.metadata[\"category\"] for doc in documents}"
   ]
  },
  {
   "cell_type": "code",
   "execution_count": 26,
   "metadata": {},
   "outputs": [],
   "source": [
    "table_elements = []\n",
    "text_elements = []"
   ]
  },
  {
   "cell_type": "markdown",
   "metadata": {},
   "source": [
    "for tabel and texts only."
   ]
  },
  {
   "cell_type": "code",
   "execution_count": null,
   "metadata": {},
   "outputs": [],
   "source": [
    "for element in raw_pdf_elements:\n",
    "    if 'CompositeElement' in str(type(element)):\n",
    "        text_elements.append(element)\n",
    "    elif 'Table' in str(type(element)):\n",
    "        table_elements.append(element)"
   ]
  },
  {
   "cell_type": "markdown",
   "metadata": {},
   "source": [
    "!why it failed. need to know to use get method"
   ]
  },
  {
   "cell_type": "code",
   "execution_count": 28,
   "metadata": {},
   "outputs": [],
   "source": [
    "# Iterate through the loaded documents and categorize them\n",
    "for doc in documents:\n",
    "    if doc.metadata.get(\"category\") == \"Table\":\n",
    "        table_elements.append(doc)\n",
    "    else:\n",
    "        text_elements.append(doc)"
   ]
  },
  {
   "cell_type": "code",
   "execution_count": 29,
   "metadata": {},
   "outputs": [
    {
     "data": {
      "text/plain": [
       "28"
      ]
     },
     "execution_count": 29,
     "metadata": {},
     "output_type": "execute_result"
    }
   ],
   "source": [
    "len(table_elements)"
   ]
  },
  {
   "cell_type": "code",
   "execution_count": 30,
   "metadata": {},
   "outputs": [
    {
     "data": {
      "text/plain": [
       "Document(page_content='Part 2 RECORD OF PROCEEDINGS Part 2.1 Diary of events Part 2.2 List of witnesses Part 2.3 Witness statements Part 2.4 List of attendees Part 2.5 List of exhibits Part 2.6 Exhibits Part 2.7 List of annexes Part 2.8 Annexes Part 2.9 inquiry Part 2.10 Master schedule REPORT Part 1 Part 1.1 Covering note and Glossary Part 1.2 Convening order & TORs Part 1.3 Narrative of events Part 1.4 Findings Part 1.5 Recommendations Schedule of matters not germane to the', metadata={'source': 'AAR_SI data2/Death of a RAF Service Person and serious injuries during British Service Mountaineering Expedition Pakistan July 2022.pdf', 'last_modified': '2024-05-22T13:44:00', 'text_as_html': '<table><thead><tr><th>Part 1</th><th>REPORT</th><th>Partt2</th><th>RECORD OF PROCEEDINGS</th></tr></thead><tbody><tr><td>Part 1.1</td><td>Covering note and</td><td>Part 2.1</td><td>Diary of events</td></tr><tr><td>Glossary</td><td></td><td>Part 2.2</td><td>List of witnesses</td></tr><tr><td>Part 1.2</td><td>Convening order &amp;</td><td>Part 2.3</td><td>Witness statements</td></tr><tr><td>TORs</td><td></td><td>Part 2.4</td><td>List of attendees</td></tr><tr><td>Part 1.3</td><td>Narrative of events</td><td>Part 2.5</td><td>List of exhibits</td></tr><tr><td>Part 1.4</td><td>Findings</td><td>Part 2.6</td><td>Exhibits</td></tr><tr><td rowspan=\"4\">Part 1.5</td><td>Recommendations</td><td>Part 2.7</td><td>List of annexes</td></tr><tr><td></td><td>Part 2.8</td><td>Annexes</td></tr><tr><td></td><td>Part 2.9 inquiry</td><td>Schedule of matters not germane to the</td></tr><tr><td></td><td>Part 2.10</td><td>Master schedule</td></tr></tbody></table>', 'filetype': 'application/pdf', 'languages': ['eng'], 'page_number': 5, 'orig_elements': 'eJyNVd9P2zAQ/ldOedgTafO7hTEkBAVNGrQqSHsAFDnJkXpKnCx2oRXif5/t1mmXlI2nxt/dfd/5fHd9eLOwwBKZiGlmnYCVRCkJxqORHSVJZgeul9mJ7ya2547S1HecKExH1hFYJQqSEUFkzJuVVlWTUUYEcn0uyLpainiBNF8IiXi+P5YxW/iVZmIhUTcKA4nWFWVCxT08uONoEB3BsRMNnKcjMGfXj/yBp4FgFB5GNjESsfiaCyzVXWZ0hcVdTVK03qUhQ4GpoBWL04JwHtdNlUg3ZzA+DseudHimBYp1jTp2dqOuSUuSY1wTnbAl7ydsQZICuf1M82WD/PFRn+3Qdge/6tzS12T5UobpO1nIcutJo1zEZZXRZ4q60p7jBbYT2p537/onQXDiOCq6VoJsWSbYSK/wSKmuREx4vBBloQJPteLZqVggyeRPoz7PZqQR4J4O5ac6ziez6fy+PSqr8PasF9P5JUyvYDafXkwml99vr+821qHiGxrupMrWW4lsKzFQIpkGLqoXbCjLgVUCgbCstWhXb8/1kpJmDdUz4ItsNr7BtdaW/LqoOJc+bUSXy2uBH5QLRfVKBUPO8QDbNlVvL1UmhVWuslWxgS+krL92JfwW+LmhBi5kU5eHM76fzvmH2Qa9bIkQyDL8R7Y7+VvSNETQF+xWbCcQ9gRwtaAJPZTpln+X0xVlcl7zHmnUApOPyKCpXnlN2LdHK3i0DPUumzmmVSkrJpeDHLWewqhfF8Zwdagq3dBxC5x/NuQYKPu9pHtddZcuMFsWurClepKGq+6FHJuSMARRgez9/zO7TovcyMmWHcW3zHuxw+38DDcTq7eQmma9YDQPHJxEMCLQGRtj8KA3A8bkQ793jS2AXjMaUwjdNjKWCCYdZASdtzOGMZz/DbT1b2/kQKdcsNlUGwcXzI6B3m4BsyGMjwe9oQY1k8buw4ExMsYAzAwYJIRO68LnekUtbfOvca/e2Xp/+gPIfl4j', 'file_directory': 'AAR_SI data2', 'filename': 'Death of a RAF Service Person and serious injuries during British Service Mountaineering Expedition Pakistan July 2022.pdf', 'category': 'Table'})"
      ]
     },
     "execution_count": 30,
     "metadata": {},
     "output_type": "execute_result"
    }
   ],
   "source": [
    "table_elements[0]"
   ]
  },
  {
   "cell_type": "code",
   "execution_count": 31,
   "metadata": {},
   "outputs": [
    {
     "data": {
      "text/plain": [
       "'Part 2 RECORD OF PROCEEDINGS Part 2.1 Diary of events Part 2.2 List of witnesses Part 2.3 Witness statements Part 2.4 List of attendees Part 2.5 List of exhibits Part 2.6 Exhibits Part 2.7 List of annexes Part 2.8 Annexes Part 2.9 inquiry Part 2.10 Master schedule REPORT Part 1 Part 1.1 Covering note and Glossary Part 1.2 Convening order & TORs Part 1.3 Narrative of events Part 1.4 Findings Part 1.5 Recommendations Schedule of matters not germane to the'"
      ]
     },
     "execution_count": 31,
     "metadata": {},
     "output_type": "execute_result"
    }
   ],
   "source": [
    "table_elements[0].page_content"
   ]
  },
  {
   "cell_type": "code",
   "execution_count": 32,
   "metadata": {},
   "outputs": [
    {
     "data": {
      "text/plain": [
       "str"
      ]
     },
     "execution_count": 32,
     "metadata": {},
     "output_type": "execute_result"
    }
   ],
   "source": [
    "type(table_elements[0].page_content)"
   ]
  },
  {
   "cell_type": "code",
   "execution_count": 33,
   "metadata": {},
   "outputs": [
    {
     "data": {
      "text/html": [
       "<table><thead><tr><th>Part 1</th><th>REPORT</th><th>Partt2</th><th>RECORD OF PROCEEDINGS</th></tr></thead><tbody><tr><td>Part 1.1</td><td>Covering note and</td><td>Part 2.1</td><td>Diary of events</td></tr><tr><td>Glossary</td><td></td><td>Part 2.2</td><td>List of witnesses</td></tr><tr><td>Part 1.2</td><td>Convening order &amp;</td><td>Part 2.3</td><td>Witness statements</td></tr><tr><td>TORs</td><td></td><td>Part 2.4</td><td>List of attendees</td></tr><tr><td>Part 1.3</td><td>Narrative of events</td><td>Part 2.5</td><td>List of exhibits</td></tr><tr><td>Part 1.4</td><td>Findings</td><td>Part 2.6</td><td>Exhibits</td></tr><tr><td rowspan=\"4\">Part 1.5</td><td>Recommendations</td><td>Part 2.7</td><td>List of annexes</td></tr><tr><td></td><td>Part 2.8</td><td>Annexes</td></tr><tr><td></td><td>Part 2.9 inquiry</td><td>Schedule of matters not germane to the</td></tr><tr><td></td><td>Part 2.10</td><td>Master schedule</td></tr></tbody></table>"
      ],
      "text/plain": [
       "<IPython.core.display.HTML object>"
      ]
     },
     "metadata": {},
     "output_type": "display_data"
    }
   ],
   "source": [
    "#Displaying the table elements\n",
    "from IPython.display import HTML, display\n",
    "\n",
    "display(HTML(table_elements[0].metadata[\"text_as_html\"]))"
   ]
  },
  {
   "cell_type": "markdown",
   "metadata": {},
   "source": [
    "### <i>Now, Summarize the table"
   ]
  },
  {
   "cell_type": "code",
   "execution_count": 34,
   "metadata": {},
   "outputs": [
    {
     "name": "stdout",
     "output_type": "stream",
     "text": [
      "\n",
      "Summary of the Table:\n",
      "The provided data outlines the structure of a report, specifically focusing on two main sections: **Part 2: Record of Proceedings** and **Part 1: Report**. \n",
      "\n",
      "### Part 2: Record of Proceedings\n",
      "- **2.1 Diary of events**: A chronological record of events.\n",
      "- **2.2 List of witnesses**: A compilation of individuals who provided testimonies.\n",
      "- **2.3 Witness statements**: Documented accounts from witnesses.\n",
      "- **2.4 List of attendees**: Names of individuals present during the proceedings.\n",
      "- **2.5 List of exhibits**: Items presented as evidence.\n",
      "- **2.6 Exhibits**: Detailed descriptions or copies of the evidence presented.\n",
      "- **2.7 List of annexes**: A catalog of supplementary materials.\n",
      "- **2.8 Annexes**: Additional documents or information supporting the main report.\n",
      "- **2.9 Inquiry**: The process of investigation or examination.\n",
      "- **2.10 Master schedule**: An overall timeline of events related to the proceedings.\n",
      "\n",
      "### Part 1: Report\n",
      "- **1.1 Covering note and Glossary**: An introduction and definitions of terms used.\n",
      "- **1.2 Convening order & TORs**: The official order for the inquiry and Terms of Reference.\n",
      "- **1.3 Narrative of events**: A detailed account of the events under review.\n",
      "- **1.4 Findings**: Conclusions drawn from the inquiry.\n",
      "- **1.5 Recommendations**: Suggestions based on the findings.\n",
      "\n",
      "### Additional Information\n",
      "- A mention of a **Schedule of matters not germane to the** suggests that there are topics that are not relevant to the main report or inquiry.\n",
      "\n",
      "Overall, this structure indicates a comprehensive approach to documenting proceedings, findings, and recommendations related to an inquiry.\n"
     ]
    }
   ],
   "source": [
    "from langchain_openai import ChatOpenAI\n",
    "\n",
    "# Step 2: Create a summary for the LLM\n",
    "chat_model = ChatOpenAI(model=\"gpt-4o-mini\", temperature=0.7, api_key=openai_api_key)\n",
    "\n",
    "# Prepare the prompt for summarization\n",
    "prompt = f\"Please summarize the following table data:\\n\\n{table_elements[0].page_content}\\n\\n:\"\n",
    "\n",
    "# Get the summary from the LLM\n",
    "summary_response = chat_model.invoke(prompt)\n",
    "summary = summary_response.content \n",
    "\n",
    "print(\"\\nSummary of the Table:\")\n",
    "print(summary)"
   ]
  },
  {
   "cell_type": "markdown",
   "metadata": {},
   "source": [
    "<i>Now, get all the tables and summarize"
   ]
  },
  {
   "cell_type": "code",
   "execution_count": 60,
   "metadata": {},
   "outputs": [
    {
     "name": "stdout",
     "output_type": "stream",
     "text": [
      "Table Data from table[0]:\n",
      "Part 2 RECORD OF PROCEEDINGS Part 2.1 Diary of events Part 2.2 List of witnesses Part 2.3 Witness statements Part 2.4 List of attendees Part 2.5 List of exhibits Part 2.6 Exhibits Part 2.7 List of annexes Part 2.8 Annexes Part 2.9 inquiry Part 2.10 Master schedule REPORT Part 1 Part 1.1 Covering note and Glossary Part 1.2 Convening order & TORs Part 1.3 Narrative of events Part 1.4 Findings Part 1.5 Recommendations Schedule of matters not germane to the\n",
      "\n",
      "Summary of Table 0:\n",
      "The provided data outlines the structure of a report and its accompanying records related to an inquiry. \n",
      "\n",
      "**Record of Proceedings (Part 2)**:\n",
      "- **Diary of Events (2.1)**: A chronological log of events.\n",
      "- **List of Witnesses (2.2)**: Individuals who provided testimony.\n",
      "- **Witness Statements (2.3)**: Written accounts from the witnesses.\n",
      "- **List of Attendees (2.4)**: Participants present during the proceedings.\n",
      "- **List of Exhibits (2.5)**: Documents or materials submitted as evidence.\n",
      "- **Exhibits (2.6)**: The actual documents or materials referenced in the list.\n",
      "- **List of Annexes (2.7)**: Supplementary materials related to the inquiry.\n",
      "- **Annexes (2.8)**: The details or content of the supplementary materials.\n",
      "- **Inquiry (2.9)**: The investigation or examination process.\n",
      "- **Master Schedule (2.10)**: The timeline for the proceedings.\n",
      "\n",
      "**Report (Part 1)**:\n",
      "- **Covering Note and Glossary (1.1)**: Introduction and definitions of terms used in the report.\n",
      "- **Convening Order & TORs (1.2)**: Authority under which the inquiry was conducted and the terms of reference.\n",
      "- **Narrative of Events (1.3)**: A detailed account of the events investigated.\n",
      "- **Findings (1.4)**: Conclusions drawn from the inquiry.\n",
      "- **Recommendations (1.5)**: Suggested actions based on the findings.\n",
      "\n",
      "Additionally, there is a mention of a schedule for matters not related to the inquiry, indicating there may be other topics addressed outside the main focus of the report.\n",
      "\n",
      "==================================================\n",
      "\n",
      "Table Data from table[1]:\n",
      "Assez Difficile (fairly difficult)' Air Experience Flight Accident Investigation Board Norway Alpine Mountain Instructor (Trained) As Low As Reasonably Practicable Army Mountaineering Association Alpine Mountain Foundation Alpine Mountain Instructor Alpine Mountain Leader Acute Mountain Sickness Alpine Mountain Trained Air Officer Commanding Air Publication Adventurous Training Australian Transport Safety Bureau AD AEF AIBN AIT ALARP AMA AMF AMI AML AMS AMT AOC AP AT ATSB BGAN BSME CAA Capt CD CDP Cdr CM CMA CMH Comdt RAR\n",
      "\n",
      "Summary of Table 1:\n",
      "The provided data appears to be a list of terms and acronyms related to mountain training, safety, and aviation, particularly in a context that combines elements of mountaineering and flight operations in Norway. Key components include:\n",
      "\n",
      "- **Organizations and Associations**: References to various bodies like the Air Experience Flight Accident Investigation Board, Army Mountaineering Association, and Australian Transport Safety Bureau.\n",
      "- **Training and Instruction**: Mentions of roles such as Alpine Mountain Instructor and Alpine Mountain Leader, indicating a focus on expertise in mountain environments.\n",
      "- **Safety Concepts**: The term \"As Low As Reasonably Practicable\" (ALARP) suggests an emphasis on risk management and safety standards.\n",
      "- **Medical Considerations**: The mention of Acute Mountain Sickness (AMS) highlights health issues related to altitude.\n",
      "\n",
      "Overall, the data reflects a structured approach to training and safety in challenging environments, likely aimed at ensuring the competency of personnel involved in mountaineering and air operations.\n",
      "\n",
      "==================================================\n",
      "\n",
      "Table Data from table[2]:\n",
      "DPHC DRA DSA DT Defence Primary Healthcare Daily Risk Assessment Defence Safety Authority Development Team ED EL F Flt Sgt FMed Facile (easy) Flight Sergeant Form Medical GDHC GMT Gp GPS GRO General Duty Holders Course Greenwich Mean Time Group Global Positioning System General Register Office HACE HAI HAPE HLS HQ HR High Altitude Cerebral [O]Edema High Altitude Illness High Altitude Pulmonary [O]Edema Helicopter Landing Site Headquarters Human Resources ICU IFAS IPCC\n",
      "\n",
      "Summary of Table 2:\n",
      "The table appears to consist of abbreviations and their corresponding full terms related to various fields, primarily focusing on healthcare, safety, and military contexts. Here’s a summarized breakdown:\n",
      "\n",
      "- **Healthcare and Medical Terms**:\n",
      "  - DPHC: Defence Primary Healthcare\n",
      "  - FMed: Form Medical\n",
      "  - ICU: Intensive Care Unit\n",
      "  - HACE: High Altitude Cerebral Edema\n",
      "  - HAI: High Altitude Illness\n",
      "  - HAPE: High Altitude Pulmonary Edema\n",
      "\n",
      "- **Military and Defence**:\n",
      "  - DRA: Daily Risk Assessment\n",
      "  - DSA: Defence Safety Authority\n",
      "  - DT: Development Team\n",
      "  - Flt Sgt: Flight Sergeant\n",
      "  - GDHC: General Duty Holders Course\n",
      "  - HQ: Headquarters\n",
      "\n",
      "- **Time and Measurement**:\n",
      "  - GMT: Greenwich Mean Time\n",
      "\n",
      "- **Technology and Systems**:\n",
      "  - GPS: Global Positioning System\n",
      "\n",
      "- **Other Terms**:\n",
      "  - GRO: General Register Office\n",
      "  - HLS: Helicopter Landing Site\n",
      "  - HR: Human Resources\n",
      "  - IFAS: (not expanded, context unclear)\n",
      "\n",
      "Overall, the list includes terms related to military operations, safety assessments, healthcare services, and some technical measurements.\n",
      "\n",
      "==================================================\n",
      "\n",
      "Table Data from table[3]:\n",
      "Non-Operational Death NOD Operating Duty Holder ODH Peu Difficile (not very difficult)3 Personal Protective Equipment PD PPE Royal Air Force Royal Air Force Fitness Test Royal Air Force Mountaineering Association Royal Air Force Volunteer Reserve (Training Branch) Robson Academy of Resilience Royal College of Defence Medicine Royal Navy Royal Navy & Royal Marine Mountaineering Club Risk Owner Advice Note Risk to Life RAF RAFFT RAFMA RAFVR(T) RAR RCDM RN RNRMMC ROAN RtL Senior Duty Holder Safety and Environmental Management System Surgeon General Seriously Injured Subject Matter Expert Safety Management Plan Standard Operating Procedure Service Personnel Safe System of Training Sequence Timed Events Plotting SDH SEMS SG SI SME SMP SOP SP SST STEP\n",
      "\n",
      "Summary of Table 3:\n",
      "The data appears to involve various organizations, roles, and terminologies related to military operations, safety management, and training. Here's a summary of the key components:\n",
      "\n",
      "1. **Organizations and Roles**: \n",
      "   - The Royal Air Force (RAF), Royal Navy (RN), and their associated groups such as the Royal Air Force Volunteer Reserve (Training Branch) and the Royal Navy & Royal Marine Mountaineering Club (RNRMMC).\n",
      "   - Other entities include the Robson Academy of Resilience and the Royal College of Defence Medicine (RCDM).\n",
      "\n",
      "2. **Terminology**: \n",
      "   - **Non-Operational Death (NOD)** and **Risk to Life (RtL)** indicate concerns related to safety and potential fatalities during operations.\n",
      "   - **Operating Duty Holder (ODH)**, **Senior Duty Holder (SDH)**, and **Risk Owner (RO)** are roles responsible for overseeing safety and operational duties.\n",
      "   - **Personal Protective Equipment (PPE)** highlights the importance of safety gear in military training and operations.\n",
      "\n",
      "3. **Training and Assessment**:\n",
      "   - References to the **Royal Air Force Fitness Test** and **Royal Air Force Mountaineering Association** suggest a focus on physical conditioning and specialized training.\n",
      "   - Terms like **Safe System of Training (SST)** and **Standard Operating Procedure (SOP)** indicate structured approaches to training and operational procedures.\n",
      "\n",
      "4. **Safety Management**: \n",
      "   - The **Safety and Environmental Management System (SEMS)** and **Safety Management Plan (SMP)** emphasize a systematic approach to maintaining safety standards.\n",
      "\n",
      "5. **Injury and Risk Management**:\n",
      "   - Terms like **Seriously Injured (SI)** and **Subject Matter Expert (SME)** suggest a focus on understanding and managing risks associated with injuries during training and operations.\n",
      "\n",
      "Overall, the data reflects a structured military framework focused on safety, training, and operational readiness, with specific roles and processes designed to manage risks effectively.\n",
      "\n",
      "==================================================\n",
      "\n",
      "Table Data from table[4]:\n",
      "1.1 UIN VHF VSI Very High Frequency Very Seriously Injured Wg Cdr Wing Commander\n",
      "\n",
      "Summary of Table 4:\n",
      "The table contains abbreviations and their meanings related to aviation and military terms. Here's a summary of the data:\n",
      "\n",
      "- **UIN**: Unique Identification Number\n",
      "- **VHF**: Very High Frequency\n",
      "- **VSI**: Very Seriously Injured\n",
      "- **Wg Cdr**: Wing Commander\n",
      "\n",
      "These terms are commonly used in aviation and military contexts.\n",
      "\n",
      "==================================================\n",
      "\n",
      "Table Data from table[5]:\n",
      "PS/SofS MA/VCDS DIR HS&EP PS/Min(AF) MA/CNS EA/DSA Dep-DG PS/Min(Lords) MA/CGS Air Inspector RAF PS/Min(DPV) PSO/CAS EA/DDC Dir PS/Min(DP) PSO/COMD UKStratCom DDC Head of News PS/PUS PSO/AOC 22Gp DDC PR News SO1 RAF PS/2PUS 22Gp-DRS-Dir Air COSPers-Del Casbereave SO2 DPSO/CDS Air 22Gp SASO\n",
      "\n",
      "Summary of Table 5:\n",
      "The table data appears to list various positions or roles within a military or governmental structure, likely related to the UK Armed Forces or a similar organization. Here’s a summary of the roles mentioned:\n",
      "\n",
      "1. **Leadership Positions**: Includes high-ranking officials such as PS/SofS (Permanent Secretary/Secretary of State), PS/PUS (Permanent Secretary/Principal Under Secretary), and positions related to strategic command and oversight (e.g., PSO/CAS, PSO/COMD, PSO/AOC).\n",
      "\n",
      "2. **Advisory and Coordination Roles**: Some roles seem to focus on advising or coordinating efforts across different departments, such as MA/VCDS (Military Advisor/Vice Chief of Defence Staff), MA/CNS (Military Advisor/Chief of Naval Staff), and other similar advisory roles.\n",
      "\n",
      "3. **Operational and Tactical Positions**: There are roles that likely pertain to operational and tactical responsibilities, such as Dir HS&EP (Director of Health, Safety, and Environmental Protection) and other operational leadership roles within air and ground units (e.g., Air Inspector RAF, SASO).\n",
      "\n",
      "4. **Public Relations and Media**: Positions like Head of News and PR News SO1 RAF indicate responsibilities related to media and public relations, ensuring communication and information dissemination.\n",
      "\n",
      "5. **Specialized Support Roles**: Some roles involve specialized support functions like DDC (Deputy Director of Communications) and SO2 DPSO/CDS (Staff Officer 2 Defence Policy and Strategy Office/Chief of Defence Staff).\n",
      "\n",
      "Overall, the data reflects a structured hierarchy with various roles focused on leadership, advisory functions, operational management, and public relations within a military or defense context.\n",
      "\n",
      "==================================================\n",
      "\n",
      "Table Data from table[6]:\n",
      "Date Change No. Detail Made by 6 Jun 23 AL1 Change of title from 'Missing believed killed SI SO1 Service person to 'death of a Service person - Changed due to confirmation of death and issue of death certificate on 19 Dec 22. SI SO1 Change Annex title from 'missing believed killed' to 'death of a Service person' - Changed due to confirmation of death and issue of death certificate on 19 Dec 22.\n",
      "\n",
      "Summary of Table 6:\n",
      "On June 6, 2023, a change was made to the title of a document regarding a Service person. The title was updated from \"Missing believed killed SI SO1 Service person\" to \"Death of a Service person.\" This change was prompted by the confirmation of death and the issuance of a death certificate on December 19, 2022. Additionally, the annex title was also changed from \"missing believed killed\" to \"death of a Service person\" for the same reasons. The changes were made by SI SO1.\n",
      "\n",
      "==================================================\n",
      "\n",
      "Table Data from table[7]:\n",
      "Synopsis Background Death of Wing Commander Henderson - 19 July 2022 Rockfall accident — 26 July 2022 Recovery of expedition personnel\n",
      "\n",
      "Summary of Table 7:\n",
      "The table data outlines a sequence of events related to an expedition. It includes the death of Wing Commander Henderson on July 19, 2022, followed by a rockfall accident on July 26, 2022. The final point mentions the recovery of expedition personnel.\n",
      "\n",
      "==================================================\n",
      "\n",
      "Table Data from table[8]:\n",
      "Date (a) Time (b) Approx. Event (c) 4 June 2022 Main Team arrived in Islamabad. 9 June 2022 Main Team arrived in Askole. 10-15 June 2022 Main Team trekked approx 70km to Broad Peak Base Camp (4850m). 15 June — 10 July 2022 Main Team completed various treks and acclimatisation rotations on Broad Peak. 11 — 15 July 2022 Main Team members were confined to Broad Peak Base Camp due to poor weather. 16 July 2022 22:00 Summit Team 1 departed Broad Peak Base Camp for Camp 2 (6250m). 17 July 2022 08:00 Summit Team 1 arrived at Camp 2. 22:00 Summit Team 2 departed Broad Peak Base Camp for Camp 2. 18 July 2022 05:30 Summit Team 1 departed Camp 2 for Camp 3 (7050m). 10:00 Summit Team 1 arrived at Camp 3. 12:45 Summit Team 2 arrived at Camp 2. 22:00 Summit Team 1 departed Camp 3 for a summit attempt. MT-2 remained at Camp 3. 19 July 2022 01:00 MT-1 turned back. 04:00 MT-1 arrived back at Camp 3. 06:00 MT-3 & MT-4 turned back. 07:40 EL arrived at the col (7800m) and waited for Wg Cdr Henderson. 08:00 MT-3 & MT-4 arrived back at Camp 3.\n",
      "\n",
      "Summary of Table 8:\n",
      "The table outlines a timeline of events for a mountaineering expedition to Broad Peak in June and July 2022. \n",
      "\n",
      "- On **4 June**, the Main Team arrived in Islamabad, followed by their arrival in Askole on **9 June**.\n",
      "- From **10 to 15 June**, they trekked approximately 70 km to reach Broad Peak Base Camp at 4850m.\n",
      "- The team engaged in various treks and acclimatization rotations at Broad Peak from **15 June to 10 July**.\n",
      "- Between **11 and 15 July**, poor weather conditions confined team members to Base Camp.\n",
      "- On **16 July** at 22:00, Summit Team 1 departed for Camp 2 (6250m) and arrived there on **17 July** at 08:00. That same night, Summit Team 2 also departed for Camp 2.\n",
      "- On **18 July**, Summit Team 1 departed Camp 2 for Camp 3 (7050m) at 05:30 and arrived by 10:00. Meanwhile, Summit Team 2 arrived at Camp 2 at 12:45.\n",
      "- Later that day, Summit Team 1 departed for a summit attempt at 22:00, while MT-2 remained at Camp 3.\n",
      "- On **19 July**, at 01:00, MT-1 turned back and returned to Camp 3 by 04:00. At 06:00, MT-3 and MT-4 also turned back and returned to Camp 3 by 08:00. Additionally, at 07:40, EL reached the col at 7800m and waited for Wg Cdr Henderson.\n",
      "\n",
      "This summary captures the key movements and events of the expedition, highlighting the progression and challenges faced by the teams.\n",
      "\n",
      "==================================================\n",
      "\n",
      "Table Data from table[9]:\n",
      "EL arrived at Broad Peak Summit (8047m). 14:00 CM-1 witnessed Wg Cdr Henderson fall. 14:00 EL departed Broad Peak Summit and commenced descent. 14:10 EL radioed MT-11 at Broad Peak Base Camp to report that Wg Cdr Henderson was missing. 14:45 CM-1 contacted their base camp to report the incident and commenced their descent. CM-1 observed a jacket, glove, and boots during their descent between the col and Camp 3. 15:00 EL arrived at the col. During their descent, the EL recovered a jacket, a boot, and a glove in the snow field between the col and Camp 3. 15:50 Paragliding pilots reported sighting of rucksack and body in a crevasse field. 17:15 MT-1 & MT-3 commenced descent from Camp 3. 18:00 JCCC, DDH, and BHC informed of incident. EL arrived at Camp 3. 19:25 MT-5 & MT-7 ascended from Camp 2 to Camp 3. Morning 20 July 2022 MT-1 & MT-3 arrived at Broad Peak Base Camp. Morning EL returned to Broad Peak Base Camp from Camp 3. Afternoon CM-1 radio conversation with BSME20 Team. Evening A sherpa from a separate expedition reported to the BSME20 team that they had found a body, at approximately 7500m in altitude. Evening CM-1 face to face interview with MT-3 & MT-11. Morning 21 July 2022 MT-7, MT-8, MT-2, MT-4, and MT-5 returned to Broad Peak Base Camp. Evening Body recovery effort commenced, 24 July 2022\n",
      "\n",
      "Summary of Table 9:\n",
      "The table data outlines a sequence of events related to the ascent and incident involving Wg Cdr Henderson at Broad Peak (8047m). \n",
      "\n",
      "- **14:00**: EL reached the summit and witnessed Wg Cdr Henderson fall.\n",
      "- **14:00**: EL began their descent.\n",
      "- **14:10**: EL informed MT-11 at Base Camp about Henderson being missing.\n",
      "- **14:45**: CM-1 reported the incident to their base camp and started descending, noting a jacket, glove, and boots on the way.\n",
      "- **15:00**: EL reached the col and recovered additional items (jacket, boot, and glove) in the snow field.\n",
      "- **15:50**: Paragliding pilots reported seeing a rucksack and body in a crevasse field.\n",
      "- **17:15**: MT-1 and MT-3 began their descent from Camp 3.\n",
      "- **18:00**: JCCC, DDH, and BHC were notified of the incident; EL arrived at Camp 3.\n",
      "- **19:25**: MT-5 and MT-7 ascended from Camp 2 to Camp 3.\n",
      "- **Morning of 20 July 2022**: MT-1 and MT-3 returned to Base Camp; EL also returned from Camp 3.\n",
      "- **Afternoon**: CM-1 had a radio conversation with the BSME20 Team.\n",
      "- **Evening**: A sherpa from another expedition reported finding a body at approximately 7500m.\n",
      "- **Evening**: CM-1 conducted a face-to-face interview with MT-3 and MT-11.\n",
      "- **Morning of 21 July 2022**: MT-7, MT-8, MT-2, MT-4, and MT-5 returned to Base Camp.\n",
      "- **Evening of 24 July 2022**: Body recovery efforts began.\n",
      "\n",
      "This timeline illustrates the search and recovery efforts following Wg Cdr Henderson’s fall, with various teams involved in reporting, descending, and coordinating efforts to locate and recover the body.\n",
      "\n",
      "==================================================\n",
      "\n",
      "Table Data from table[10]:\n",
      "Event (c) Time (b) Approx. Date (a) Development Team arrived in Islamabad. 9 July 2022 Development Team arrived in Askole. 14 July 2022 Development Team Trekked from Askole to Concordia. 14-25 July 2022 Development Team departed Concordia (4650m). 07:30 25 July 2022 Main Team departed Broad Peak Base Camp (4850m). 08:00 Development Team arrived at Ali Camp (5000m). 13:00 Main Team arrived at Ali Camp. 17:00 The Development Team and Main Team departed Ali Camp. 23:30 The Main Team summited the Gondogoro La (5585m). 26 July 2022 03:00 The Development Team summited the Gondogoro La. 07:00 Main Team arrived at Xhuspang Camp (4680m). 07:30 DT-6 and DT-4 from Development Team struck by rockfall (5200m). 10:10 DT-4 escorted to Xhuspang Camp by DT-13. 10:30 Initial medical treatment provided to DT-6 by DT-2. 10:30 Main Team informed of incident by DT-12. 11:00 MT-10 dispatched porters and additional medical supplies to the scene of the accident. 11:00- 12:00 MT-10 dispatched MT-7 with satellite communications to the scene of the accident. 11:00- 12:00 Helicopter requests submitted to Askari Aviation and the British High Commission Islamabad. 11:00- 12:00 DDH informed of incident. 12:00\n",
      "\n",
      "Summary of Table 10:\n",
      "Here's a summary of the provided table data:\n",
      "\n",
      "**Event Timeline:**\n",
      "- **9 July 2022:** Development Team arrived in Islamabad.\n",
      "- **14 July 2022:** Development Team arrived in Askole and began trekking from Askole to Concordia (14-25 July 2022).\n",
      "- **25 July 2022:**\n",
      "  - **07:30:** Development Team departed Concordia (4650m).\n",
      "  - **08:00:** Main Team departed Broad Peak Base Camp (4850m).\n",
      "  - **13:00:** Development Team arrived at Ali Camp (5000m).\n",
      "  - **17:00:** Main Team arrived at Ali Camp.\n",
      "  - **23:30:** Both teams departed Ali Camp.\n",
      "- **26 July 2022:**\n",
      "  - **03:00:** Main Team summited the Gondogoro La (5585m).\n",
      "  - **07:00:** Development Team summited the Gondogoro La.\n",
      "  - **07:30:** Main Team arrived at Xhuspang Camp (4680m).\n",
      "- **Incident Reporting:**\n",
      "  - **10:10:** DT-6 and DT-4 from Development Team struck by rockfall (5200m).\n",
      "  - **10:30:** DT-4 escorted to Xhuspang Camp by DT-13; initial medical treatment provided to DT-6 by DT-2.\n",
      "  - **11:00:** Main Team informed of the incident; MT-10 dispatched porters and medical supplies to the scene; MT-10 dispatched MT-7 with satellite communications.\n",
      "  - **11:00-12:00:** Helicopter requests submitted to Askari Aviation and the British High Commission Islamabad; DDH informed of the incident by 12:00.\n",
      "\n",
      "This summary captures the chronological events and key incidents involving the Development and Main Teams during their expedition.\n",
      "\n",
      "==================================================\n",
      "\n",
      "Table Data from table[11]:\n",
      "15:30 MT-7 met the stretcher party and was unsuccessful in establishing communications with the Main Team. 16:00 The Main Team informed by British High Commission that helicopter not available until the following morning. MT-3, MT-11, MT-4, MT-1, and MT-2 with additional medical supplies, including the Xtract2 stretcher, began their ascent to the HLS. 17:30 DT-6 and stretcher party arrived at the HLS. Stretcher party began descent to Xhuspang Camp. 21:30 DT-6 and stretcher party arrived at Xhuspang Camp. 27 July 2022 09:00 Main and Development Teams at Xhuspang Camp informed of no helicopter availability for three days. 11:00 Main and Development Teams commenced stretcher carry of DT-6 to Hushe. 11:30 DT-5 informed that a helicopter was en-route to extract DT-6. DT-6 and DT-13 (medical escort) evacuated to the ICU at Combined Military Hospital in Skardu via helicopters. 28 July 2022 Main Team arrived in Skardu. 29 July 2022 Development Team arrived in Skardu. 30 July 2022 EL arrived in Skardu. 31 July 2022 Main and Development Teams, with exception of DT-6 & DT-2 (medical escort), arrived in Islamabad. 1 Aug 2022 Development Team returned to UK. 2 Aug 2022 Main Team returned to UK. DT-6 and DT-2 returned to UK and transported to Queen Elizabeth Hospital Birmingham.\n",
      "\n",
      "Summary of Table 11:\n",
      "The data outlines a series of events related to a rescue operation involving a stretcher party and multiple teams. \n",
      "\n",
      "- On July 27, 2022, at 15:30, a stretcher party met with MT-7 but failed to establish communication with the Main Team. By 16:00, the Main Team was informed by the British High Commission that a helicopter would not be available until the following morning. Subsequently, several teams (MT-3, MT-11, MT-4, MT-1, and MT-2) began their ascent to the Helicopter Landing Site (HLS) with additional medical supplies. \n",
      "- At 17:30, DT-6 and the stretcher party reached the HLS and began the descent to Xhuspang Camp, arriving there at 21:30. \n",
      "- On July 28, at 09:00, both Main and Development Teams at Xhuspang Camp learned that no helicopter would be available for three days. \n",
      "- By 11:00, the teams started carrying DT-6 to Hushe. At 11:30, they were informed that a helicopter was en route to extract DT-6, who, along with medical escort DT-13, was evacuated to the ICU at the Combined Military Hospital in Skardu. \n",
      "- The Main Team arrived in Skardu on July 28, followed by the Development Team on July 29 and EL on July 30. \n",
      "- On July 31, the Main and Development Teams, except for DT-6 and DT-2 (medical escort), reached Islamabad. \n",
      "- DT-6 and DT-2 returned to the UK on August 1 and 2, respectively, and were later transported to Queen Elizabeth Hospital in Birmingham.\n",
      "\n",
      "==================================================\n",
      "\n",
      "Table Data from table[12]:\n",
      "Accident Investigation Board Norway (AIBN) analysis model Accident factors Probabilistic language Available evidence Services 5 Adventurous training Policy governance 5 5 6 6 Death certificate Lines of inquiry Timeline analysis Qualifications and experience of Wg Cdr Henderson and the EL Fatigue High-altitude illness (HAI) Communications Decision analysis Descent route Descent technique Main Team instructor qualifications and remit Main Team group management and supervision Buddy-buddy system Equipment Weather and climate Medical suitability and physical fitness requirements Risk management Body recovery effort Summary of accident\n",
      "\n",
      "Summary of Table 12:\n",
      "The table presents an analysis model used by the Accident Investigation Board Norway (AIBN) to evaluate an accident. It categorizes various accident factors, including adventurous training, policy governance, fatigue, high-altitude illness (HAI), communications, decision analysis, descent route and technique, instructor qualifications, group management, the buddy-buddy system, equipment, weather conditions, medical suitability, physical fitness requirements, and risk management. \n",
      "\n",
      "The analysis utilizes probabilistic language to assess the available evidence, including death certificates and lines of inquiry. It also highlights the timeline of events and focuses on the qualifications and experience of key individuals involved, such as Wing Commander Henderson. The investigation encompasses considerations for body recovery efforts and culminates in a summary of the accident.\n",
      "\n",
      "==================================================\n",
      "\n",
      "Table Data from table[13]:\n",
      "Lines of inquiry Qualifications and experience of the Development Team Development Team delay Risk management Communications Medical Development Team instructor qualification and remit Development Team group management and supervision Very seriously injured (VSI) casualty evacuation delay\n",
      "\n",
      "Summary of Table 13:\n",
      "The table data covers various aspects related to a Development Team involved in a project or operation. Here's a summary of the key points:\n",
      "\n",
      "1. **Qualifications and Experience**: The Development Team possesses relevant qualifications and experience necessary for their roles.\n",
      "\n",
      "2. **Team Delay**: There may be delays attributed to the Development Team, which could impact overall project timelines.\n",
      "\n",
      "3. **Risk Management**: The team has mechanisms in place for identifying and managing risks associated with their work.\n",
      "\n",
      "4. **Communications**: Effective communication strategies are outlined, likely to ensure clarity and coordination within the team and with external stakeholders.\n",
      "\n",
      "5. **Instructor Qualification and Remit**: The Development Team includes instructors with specific qualifications, highlighting their expertise and responsibilities within the team.\n",
      "\n",
      "6. **Group Management and Supervision**: The team implements strategies for managing and supervising group activities to maintain productivity and cohesion.\n",
      "\n",
      "7. **VSI Casualty Evacuation Delay**: There are concerns regarding delays in the evacuation of Very Seriously Injured (VSI) casualties, indicating potential challenges in emergency response or logistics.\n",
      "\n",
      "Overall, the data reflects a comprehensive overview of the Development Team's capabilities, challenges, and operational considerations.\n",
      "\n",
      "==================================================\n",
      "\n",
      "Table Data from table[14]:\n",
      "Lines of inquiry BSME20 training plan Medical suitability assessment Duty holding Tri-service mountaineering governance structure\n",
      "\n",
      "Summary of Table 14:\n",
      "The table presents various lines of inquiry related to the following topics:\n",
      "\n",
      "1. **BSME20 Training Plan**: This likely refers to a specific training program designed for personnel, focusing on the objectives, curriculum, and outcomes associated with the BSME20 initiative.\n",
      "\n",
      "2. **Medical Suitability Assessment**: This involves evaluating the health and fitness of individuals to ensure they meet the necessary medical standards for participation in certain activities or duties.\n",
      "\n",
      "3. **Duty Holding**: This may pertain to the responsibilities and roles assigned to personnel, indicating how duties are allocated and managed within the organization.\n",
      "\n",
      "4. **Tri-Service Mountaineering Governance Structure**: This refers to the framework that governs mountaineering activities across three branches of the military, likely addressing policies, safety standards, and operational coordination.\n",
      "\n",
      "Overall, the table outlines essential areas of focus for training, health assessments, duty management, and governance in the context of military operations and activities.\n",
      "\n",
      "==================================================\n",
      "\n",
      "Table Data from table[15]:\n",
      "CAUSE TACIOR: vac levssseaccocuscocevsescpsssecscteassactsctuchscheispatpeantonsiaeede res tyeteicceraccal cugdeheeecenae 65 Aggravating factor. «ss 65 Ott TA CHORS 355 -ssctsscsc5c2hetack ccessceasec aA rindi cates acpecsuelense deesiveedasvetieen 65 OBServ atone’ vsssessicrstsavs cacersapacenctessscoatesessctuc-uasenvnaeasrouxsarssubanacanpavenbesaceueteeloccageste 65\n",
      "\n",
      "Summary of Table 15:\n",
      "The provided text appears to be a jumbled and nonsensical collection of words and phrases, which makes it challenging to summarize meaningfully. It seems to reference various concepts such as \"aggravating factors,\" \"observations,\" and possibly legal or procedural terms, but without coherent context or structure. If you can provide a clearer or more structured version of the table data, I would be happy to assist with summarizing it.\n",
      "\n",
      "==================================================\n",
      "\n",
      "Table Data from table[16]:\n",
      "OHO FACTORS sssscceent ass oss ta sanszetnuscessce26ssastevcocsesaczas casssonevanepvageuersseesgusteccucsaiavaraaeecs 65 ODSEIVEMIONS 2 ecssacscesrcsscestacazzysessanss sivenseccescepy onspsce aaescacenersiGesatacauasonmtve Mautacopeprays 66\n",
      "\n",
      "Summary of Table 16:\n",
      "It seems that the text you've provided is garbled and doesn't form coherent sentences or data. If you have a specific table or data set that you would like summarized, please provide it in a clearer format, and I would be happy to help summarize it for you.\n",
      "\n",
      "==================================================\n",
      "\n",
      "Table Data from table[17]:\n",
      "Interviews conducted by the panel with: (1) BSME20 participants. (2) Civilian witnesses. (3) Duty holding personnel. d. Discussions with subject matter experts (SMEs). e. Photography/videography and mapping provided from several sources. f. expedition. Global Positioning Data (GPS) data taken from members of the g. Reports pertaining to individuals, including medical documentation, qualifications, and competencies. h. Equipment and clothing. Technical reports including material analysis and forensic services. Policy on AT, medical, and safety including. j. (1) Joint Service Publication (JSP) 419, Adventurous Training in the UK Armed Forces. (2) JSP 950, Medical Policy. (3) Air Publication (AP) 8000, AIR TLB Safety and Environmental Management System. (4) AP3342, Management of Physical Education in the RAF. (5) RAFMA Safety Management Plan (SMP). (6) RAFMA Standard Operating Procedures (SOPs). k. Death certificate for Wg Cdr Henderson.\n",
      "\n",
      "Summary of Table 17:\n",
      "The summarized data includes various sources and types of information related to a specific incident or investigation:\n",
      "\n",
      "1. **Interviews**: Conducted with participants from BSME20, civilian witnesses, and duty-holding personnel.\n",
      "2. **Expert Discussions**: Engaged with subject matter experts (SMEs).\n",
      "3. **Media Documentation**: Included photography, videography, and mapping from various sources.\n",
      "4. **GPS Data**: Collected from expedition members.\n",
      "5. **Reports**: Encompassed individual reports including medical documentation, qualifications, and competencies.\n",
      "6. **Equipment and Clothing**: Involved technical reports with material analysis and forensic services.\n",
      "7. **Policies**: Reviewed policies on adventurous training, medical, and safety, including:\n",
      "   - JSP 419: Adventurous Training in the UK Armed Forces\n",
      "   - JSP 950: Medical Policy\n",
      "   - AP 8000: AIR TLB Safety and Environmental Management System\n",
      "   - AP 3342: Management of Physical Education in the RAF\n",
      "   - RAFMA Safety Management Plan (SMP)\n",
      "   - RAFMA Standard Operating Procedures (SOPs)\n",
      "8. **Death Certificate**: Documentation for Wg Cdr Henderson.\n",
      "\n",
      "This summary highlights the comprehensive nature of the investigation, involving interviews, expert input, detailed reports, and relevant policies.\n",
      "\n",
      "==================================================\n",
      "\n",
      "Table Data from table[18]:\n",
      "The Robson Academy of Resilience (RAR), HQ 22Gp. e. The Air Human Resources (HR) Centre 1. f. g. RAF HQ Air Command. The Joint Services Mountaineering Training Centre (JSMTC). h. The RAF Mountaineering Association (RAFMA). i. The Army Mountaineering Association (AMA). j. The Royal Navy & Royal Marine Mountaineering Club k. (RNRMMC). HQ Air RAF Safety Centre I. Inspector Land Safety (RAF). m. 1710 Naval Air Squadron - Materials. n. The RAF Police Scientific Support Unit, RAF Henlow. o. Kuehne and Nagel military and government, Bicester. P. QinetiQ. q. Cellmark. r. Background\n",
      "\n",
      "Summary of Table 18:\n",
      "The provided table data outlines various organizations and entities related to mountaineering and safety within the UK military context. Key components include:\n",
      "\n",
      "1. **Robson Academy of Resilience (RAR)** - Focused on resilience training.\n",
      "2. **HQ 22Gp e. The Air Human Resources (HR) Centre** - Human resources management for air force personnel.\n",
      "3. **RAF HQ Air Command** - Command structure for the Royal Air Force.\n",
      "4. **Joint Services Mountaineering Training Centre (JSMTC)** - Provides mountaineering training across services.\n",
      "5. **RAF Mountaineering Association (RAFMA)** - A community for RAF personnel interested in mountaineering.\n",
      "6. **Army Mountaineering Association (AMA)** - Similar association for the Army.\n",
      "7. **Royal Navy & Royal Marine Mountaineering Club (RNRMMC)** - Focused on mountaineering for Navy and Marines.\n",
      "8. **HQ Air RAF Safety Centre** - Ensures safety protocols within the RAF.\n",
      "9. **Inspector Land Safety (RAF)** - Responsible for land safety inspections.\n",
      "10. **1710 Naval Air Squadron - Materials** - Involved in materials management for naval air operations.\n",
      "11. **RAF Police Scientific Support Unit, RAF Henlow** - Provides scientific support for RAF police operations.\n",
      "12. **Kuehne and Nagel military and government, Bicester** - Logistics provider for military and government.\n",
      "13. **QinetiQ** - A defense technology company.\n",
      "14. **Cellmark** - A forensic science company.\n",
      "15. **Background** - Likely refers to additional context or supporting information related to the above entities.\n",
      "\n",
      "Overall, the data represents a network of organizations involved in training, safety, and support for mountaineering and operational activities within the UK military framework.\n",
      "\n",
      "==================================================\n",
      "\n",
      "Table Data from table[19]:\n",
      "b. Vomiting Fatigue. c. d Loss of appetite. e Dizziness/light headedness. f. Sleep disturbance. Exhibit 74 a. Stop further ascent (symptoms usually disappear within three days). b. Descend if there is no improvement or conditions worsen. c. Descend immediately if there are more serious symptoms. Take pain relief such as paracetamol or ibuprofen. d. e. Rest. Exhibit 74 Exhibit 74 1.4 - Page 12 of 67\n",
      "\n",
      "Summary of Table 19:\n",
      "The table outlines symptoms and corresponding recommendations for dealing with altitude sickness. \n",
      "\n",
      "**Symptoms:**\n",
      "- Vomiting\n",
      "- Fatigue\n",
      "- Loss of appetite\n",
      "- Dizziness/lightheadedness\n",
      "- Sleep disturbance\n",
      "\n",
      "**Recommendations:**\n",
      "1. Stop ascending if symptoms occur; they typically resolve within three days.\n",
      "2. Descend if there is no improvement or if symptoms worsen.\n",
      "3. Descend immediately if serious symptoms develop.\n",
      "4. Use pain relief medications like paracetamol or ibuprofen.\n",
      "5. Rest to aid recovery. \n",
      "\n",
      "This guidance is aimed at managing altitude sickness effectively.\n",
      "\n",
      "==================================================\n",
      "\n",
      "Table Data from table[20]:\n",
      "This was not mentioned in his pre-expedition medical questionnaire as an active medical roblem. The anel noted that his medical report stated that he had suffered during his time in the RAF, including treatment for in 2020. These were related to his high level of physical activity, being a triathlete and mountaineer. There were no reports from BSME20 team members that Wg Cdr Henderson was suffering with during the expedition and as such, it was the panel's opinion that it was unlikely that this was an issue.\n",
      "\n",
      "Summary of Table 20:\n",
      "The table data indicates that Wg Cdr Henderson did not disclose an active medical problem in his pre-expedition questionnaire. His medical report mentioned past issues related to his time in the RAF, specifically treatment for a condition in 2020, which were attributed to his high physical activity as a triathlete and mountaineer. However, no team members reported any current health concerns during the expedition, leading the panel to conclude that it was unlikely he was experiencing any issues at that time.\n",
      "\n",
      "==================================================\n",
      "\n",
      "Table Data from table[21]:\n",
      "Exhibit 237 1.4.223. The Development Team operated at a different terrain grading to that of the Main Team during the expedition, due to the nature of their trekking programme. Prior to the expedition, the EL consulted with the chief instructor at Joint Services Mountaineering Training Centre in accordance with the guidance within JSP 419 and an instructor/student ratio of 1:3 was agreed. Exhibit 02 1.4.224. The Development Team consisted of 16 personnel, including four leaders/instructors, two at AML level and two at Alpine Mountain Instructor (trained), (AIT) level. 1.4.225. The panel concluded that the Development Team remained within the agreed instructor student/ratio requirement at all times on the expedition and determined that the Development Team instructor qualification and remit was not a factor. Development Team group management and supervision 1.4.226. As previously discussed, BSME20 operated within the policy laid down in JSP 419. In accordance with the JSP and by virtue of the qualifications they held, the two AMLs and two AlTs were charged with the supervision of group members. 1.4.227. During the transit of the Gondogoro La Pass the Development Team split into four separate groups of four individuals, each with a leader to safely manage the other members of the team. Each group remained as close together as operating on the fixed ropes would allow. Witness 17 Exhibit 238 1.4.228. The panel concluded that the group management and supervision of the Development Team did not contribute to the accident and was not a factor. Very seriously injured (VSI) casualty evacuation delay Witness 06 Witness 07 Exhibit 287 Exhibit 288\n",
      "\n",
      "Summary of Table 21:\n",
      "The summary of the provided data is as follows:\n",
      "\n",
      "The Development Team operated under different terrain grading compared to the Main Team during their expedition, as dictated by their specific trekking programme. Prior to the expedition, the Expedition Leader (EL) consulted with the chief instructor at the Joint Services Mountaineering Training Centre to establish an instructor/student ratio of 1:3, which was agreed upon. The Development Team comprised 16 members, including four qualified leaders/instructors (two at AML level and two at Alpine Mountain Instructor level). The panel confirmed that the team maintained the required instructor/student ratio throughout the expedition and that the qualifications of the instructors were adequate.\n",
      "\n",
      "The Development Team adhered to the policies outlined in JSP 419 for group management and supervision. The two AMLs and two AITs were responsible for supervising the group members. While traversing the Gondogoro La Pass, the Development Team divided into four groups of four, each led by a designated leader to ensure safety as they navigated fixed ropes. The groups remained as close together as possible during the crossing. The panel concluded that the management and supervision of the Development Team did not contribute to any accidents and was not a factor in the incident. Additionally, there was a mention of a delay in the evacuation of a very seriously injured casualty, but details on this were referenced from witnesses and exhibits.\n",
      "\n",
      "==================================================\n",
      "\n",
      "Table Data from table[22]:\n",
      "Serial (a) Event (d) Time (c) (approx.) Date (b) 1 N/A July 2018 Issue of BSME20 Defence Instruction and Notice (DIN) 2 December 2018 — May 2022 N/A BSME20 training activity undertaken 14 February 2019 3 RAFMA Chair is made Delivery Duty Holder (DDH) for all RAFMA meets and RAFMA led expeditions by Air Officer Commanding (AOC) 22 Gp N/A Preliminary high risk and remote panel undertaken 26 March 2019 N/A 4 High risk and remote panel undertaken N/A 5 8 October 2019 N/A 18 October 2019 International expedition technical approval letter issued by Robson Academy of Resilience, 22 Gp 6\n",
      "\n",
      "Summary of Table 22:\n",
      "Here’s a summary of the provided table data:\n",
      "\n",
      "1. **July 2018**: Issuance of the BSME20 Defence Instruction and Notice (DIN).\n",
      "2. **December 2018 - May 2022**: Training activities related to BSME20 were conducted.\n",
      "3. **14 February 2019**: The RAFMA Chair was designated as the Delivery Duty Holder (DDH) for all RAFMA meetings and expeditions by the Air Officer Commanding (AOC) of 22 Group.\n",
      "4. **26 March 2019**: A preliminary high-risk and remote panel was undertaken.\n",
      "5. **8 October 2019**: High-risk and remote panel conducted.\n",
      "6. **18 October 2019**: An international expedition technical approval letter was issued by the Robson Academy of Resilience, 22 Group. \n",
      "\n",
      "The data outlines a series of events related to BSME20 training and RAFMA operations over a timeline from July 2018 to October 2019.\n",
      "\n",
      "==================================================\n",
      "\n",
      "Table Data from table[23]:\n",
      "7 28 October 2019 BSME20 Joint Services Adventurous Training Form Alpha (JSATFA) approved by RAFMA Chair N/A 5 March 2020 8 N/A Confirmation of single duty holding construct for tri-service participants by RAFMA Chair 9 March 2020 — December 2021 N/A Expedition postponed in 2020 and 2021 due to COVID-19 Pandemic 14 February 2022 10 International expedition technical approval letter re-issued by Robson Academy of Resilience, 22 Gp N/A 19 May 2022 11 N/A Duty Holder Advice Notice (DHAN) BSME20 safe system of training dispensation approved by Operating Duty Holder (ODH) 4 June 2022 12 N/A BSME20 Main Team arrived in Pakistan 9 July 2022 BSME20 Development Team arrived in Pakistan 13 N/A 18 July 2022 14 5 members of Summit Team 1, including Wg Cdr Henderson, departed Camp 3 (7050m) for summit attempt 22:00 19 July 2022 15 3 members of Summit Team 1 returned to Camp 3 04:00-08:00 16 12:15 EL and Wg Cdr Henderson arrived at Rocky Summit (8035m) 17 12:30 Last recorded sighting of Wg Cdr Henderson by EL 18 14:00 CM-1 witnessed Wg Cdr Henderson fall 19 15:15 Paragliding pilots reported the sighting of a body (approximately 7400m) in a crevasse field 20 Evening Initial NOTICAS48 released detailing Wg Cdr Henderson was missing 21 20 July 2022 CM-1 initial report to BSME20 team of what they had witnessed Evening 22 Evening A sherpa, from a separate expedition, reported to the BSME20 team that they had found a body at approximately 7500m\n",
      "\n",
      "Summary of Table 23:\n",
      "The table outlines a timeline of events related to the BSME20 expedition, which faced several developments and challenges:\n",
      "\n",
      "- **October 2019**: The RAFMA Chair approved the Joint Services Adventurous Training Form Alpha (JSATFA).\n",
      "- **March 2020**: Confirmation was received regarding the duty holding construct for tri-service participants.\n",
      "- **2020-2021**: The expedition was postponed due to the COVID-19 pandemic.\n",
      "- **May 2022**: An international expedition technical approval letter was re-issued.\n",
      "- **June 2022**: A Duty Holder Advice Notice (DHAN) was approved, allowing for a safe system of training dispensation.\n",
      "- **July 2022**: \n",
      "  - The BSME20 main team and development team arrived in Pakistan.\n",
      "  - On July 19, members of Summit Team 1, including Wg Cdr Henderson, attempted the summit at 22:00.\n",
      "  - By the morning of July 20, some members returned to Camp 3, and Wg Cdr Henderson reached the Rocky Summit at 8035m.\n",
      "  - The last sighting of Wg Cdr Henderson was recorded at 12:30, followed by a witnessed fall at 14:00.\n",
      "  - Reports of a body sighting were made by paragliding pilots later that day, and an initial notification was released stating Wg Cdr Henderson was missing.\n",
      "- **July 20, 2022**: A sherpa from a different expedition reported finding a body at approximately 7500m.\n",
      "\n",
      "This summary illustrates the chronology of approvals, challenges due to the pandemic, and the tragic events during the summit attempt.\n",
      "\n",
      "==================================================\n",
      "\n",
      "Table Data from table[24]:\n",
      "DAIB Missing Climber Triage Report issued 24 22 July 2022 N/A Wg Cdr Henderson's body recovery effort commenced 25 24 July 2022 N/A Development Team and Main Team departed Ali Camp 23:30 26 25 July 2022 Main Team summited Gondogoro La (5585m) 27 03:00 28 Development Team summited Gondogoro La 07:00 Rockfall incident which resulted in two casualties (VSI and SI) from the Development Team 10:10 29 26 July 2022 NOTICAS for rockfall casualties released Afternoon 30 Information received that helicopter casualty evacuation would not be available until the following morning 31 16:00 VSI casualty evacuated to Skardu Combined Military Hospital (CMH) by helicopter 32 27 July 2022 11:30 33 N/A Wg Cdr Henderson's body recovery effort ceased All BSME20 Personnel, including VSI, returned to UK N/A 34 1 - 2 August 2022 35 DAIB deployment record into both incidents issued 19 August 2022 N/A Service inquiry panel convened 25 August 2022 N/A 36 Death Certificate for Wg Cdr Henderson issued by UK General Register Office (GRO) N/A 37 19 December 2022 1 4 273\n",
      "\n",
      "Summary of Table 24:\n",
      "The table summarizes the timeline and key events related to the DAIB Missing Climber Triage Report, focusing on the recovery efforts for Wg Cdr Henderson and incidents involving the Development Team on Gondogoro La. Key points include:\n",
      "\n",
      "- **July 22, 2022**: The Missing Climber Triage Report was issued, and recovery efforts for Wg Cdr Henderson began.\n",
      "- **July 24, 2022**: Development and Main Teams departed Ali Camp at night.\n",
      "- **July 25, 2022**: The Main Team summited Gondogoro La at 03:00, followed by the Development Team at 07:00. A rockfall incident occurred resulting in two casualties.\n",
      "- **July 26, 2022**: Notices for the rockfall casualties were released. Information about helicopter evacuation delays was received, and a VSI casualty was evacuated to Skardu Combined Military Hospital at 16:00.\n",
      "- **July 27, 2022**: Wg Cdr Henderson's body recovery efforts were ceased, and all personnel, including the VSI casualty, returned to the UK.\n",
      "- **August 1-2, 2022**: A deployment record related to both incidents was issued on August 19, 2022.\n",
      "- **August 25, 2022**: A service inquiry panel was convened.\n",
      "- **December 19, 2022**: A death certificate for Wg Cdr Henderson was issued by the UK General Register Office.\n",
      "\n",
      "Overall, the report outlines a series of tragic events during an expedition, including a fatal rockfall and subsequent recovery efforts.\n",
      "\n",
      "==================================================\n",
      "\n",
      "Table Data from table[25]:\n",
      "1.4.284. The panel found that the production of a technical report to assist with confirmation of death, was an other factor. 1.4.17 1.4.285. The panel found that the significant amount of evidence gathered by the BSME20 team to assist with the accident investigation was an other factor. 1.4.20 1.4.286. The panel concluded that as AMLs, both MT-5 and MT-8 operated outside their qualification as detailed within JSP 419 and were not permitted to lead on AD graded terrain. The panel considered this to be an other factor. 1.4.98 1.4.287. The panel concluded that MT-1, 3 and 4 operated outside their qualification as detailed within JSP 419, and were not permitted to operate as equals on AD graded terrain. The panel considered this to be an other factor. 1.4.101 1.4.288. The panel found that the lack of a check to confirm that the instructor/student ratios remained valid, in accordance with JSP 419, was an other factor. 1.4.106 1.4.289. The panel found the insufficient level of group management and supervision for MT-2 to be an other factor. 1.4.119 1.4.290. The inadequate level of group management and supervision for MT-1 was considered to be an other factor. 1.4.125 1.4.291. The panel found the lack of adherence to the buddy-buddy system for MT-1 to be an other factor. 1.4.292. The panel found that that the lack of an evidential check of personnel being in-date for single Service fitness tests was an other factor. 1.4.133 1.4.173 Observation. 1.4.293. The panel observed that the buddy-buddy system is not formally defined in any defence policy, although 'buddy-buddy' is a widely used term in the military. 1.4.128\n",
      "\n",
      "Summary of Table 25:\n",
      "The panel identified several factors contributing to the incident under investigation:\n",
      "\n",
      "1. The production of a technical report for confirming death.\n",
      "2. A significant amount of evidence gathered by the BSME20 team for the accident investigation.\n",
      "3. Both MT-5 and MT-8 operated outside their qualifications as per JSP 419, leading to their inability to lead on AD graded terrain.\n",
      "4. MT-1, MT-3, and MT-4 also operated outside their qualifications, which prohibited them from operating as equals on AD graded terrain.\n",
      "5. There was a lack of checks to confirm valid instructor/student ratios according to JSP 419.\n",
      "6. Insufficient group management and supervision for MT-2.\n",
      "7. Inadequate group management and supervision for MT-1.\n",
      "8. Non-adherence to the buddy-buddy system for MT-1.\n",
      "9. Lack of checks to ensure personnel were up-to-date with single Service fitness tests.\n",
      "10. The panel noted that while the buddy-buddy system is commonly used in the military, it is not formally defined in any defense policy.\n",
      "\n",
      "These points highlight various operational and procedural deficiencies that contributed to the incident.\n",
      "\n",
      "==================================================\n",
      "\n",
      "Table Data from table[26]:\n",
      "Rockfall accident summary of findings Causal factor. 1.4.201 1.4.294. The panel found the delay of the Development Team during the transit of the Gondogoro La to be a causal factor. Aggravating factor. 1.4.295. The panel found that the separation of teams from communication equipment and subsequent delayed request for external medical support to be an aggravating factor 1.4.212 Other factors. 1.4.296. The panel found that the lack of completion of DRAs by the Development Team to be an other factor. 1.4.205 1.4.216 1.4.297. The panel concluded that the benefit of an expedition medical officer carrying in future expeditions and as such, was an other factor. could well be critical in the treatment of injured personnel Observations. .The panel observed that the problems experienced with acquiring 1.4.298. medical equipment and CDs had been experienced by members on previous high-altitude mountaineering expeditions and was not unique to BSME20. 1.4.220 1.4.299. The panel observed that the BSME20 medical team were unable to demand medical equipment and CDs in line with the issued defence process. 1.4.221 Expedition planning, preparation, and approvals summary of findings\n",
      "\n",
      "Summary of Table 26:\n",
      "The summary of findings regarding the rockfall accident includes the following key points:\n",
      "\n",
      "1. **Causal Factor**: The Development Team experienced delays during their transit across the Gondogoro La, which was identified as a primary causal factor in the incident.\n",
      "\n",
      "2. **Aggravating Factor**: The separation of teams from communication equipment led to a delayed request for external medical support, which aggravated the situation.\n",
      "\n",
      "3. **Other Factors**: \n",
      "   - The Development Team did not complete the required Detailed Risk Assessments (DRAs), which was noted as another contributing factor.\n",
      "   - The panel highlighted the potential critical role of having an expedition medical officer on future expeditions for the effective treatment of injured personnel.\n",
      "\n",
      "4. **Observations**: \n",
      "   - The panel noted that difficulties in acquiring medical equipment and communications devices (CDs) had been encountered by team members on previous high-altitude mountaineering expeditions, indicating this issue was not unique to the BSME20 expedition.\n",
      "   - Additionally, the BSME20 medical team faced restrictions in demanding medical equipment and CDs in accordance with the established defense process.\n",
      "\n",
      "Overall, the findings emphasize the importance of effective planning, communication, and risk assessment in high-altitude expeditions to prevent similar incidents in the future.\n",
      "\n",
      "==================================================\n",
      "\n",
      "Table Data from table[27]:\n",
      "d. and communicate the benefit of by medical officers in portable medical packs for future high risk and remote mountaineering club/association led expeditions in order to allow for improved immediate medical care of casualties with internal injuries.\n",
      "\n",
      "Summary of Table 27:\n",
      "The table highlights the advantages of utilizing portable medical packs by medical officers during high-risk and remote mountaineering expeditions organized by clubs or associations. Key benefits include the provision of immediate medical care for casualties with internal injuries, enhancing the likelihood of positive outcomes in emergency situations. By equipping medical officers with these specialized packs, expeditions can ensure timely and effective treatment, ultimately improving safety and preparedness for participants in challenging environments.\n",
      "\n",
      "==================================================\n",
      "\n"
     ]
    }
   ],
   "source": [
    "chat_model = ChatOpenAI(model=\"gpt-4o-mini\", temperature=0.7, api_key=openai_api_key)\n",
    "\n",
    "# Iterate through each table in the table_elements list\n",
    "for index, table in enumerate(table_elements):\n",
    "    # Extract the content of the current table\n",
    "    table_content = table.page_content\n",
    "    print(f\"Table Data from table[{index}]:\")\n",
    "    print(table_content)  # Display the raw content\n",
    "\n",
    "    # Prepare the prompt for summarization\n",
    "    prompt = f\"Please summarize the following table data:\\n\\n{table_content}\"\n",
    "\n",
    "    # Get the summary from the LLM using invoke\n",
    "    summary_response = chat_model.invoke(prompt)  # Pass the prompt as a string\n",
    "\n",
    "    # Access the content of the AIMessage response\n",
    "    summary = summary_response.content  # Use the 'content' attribute\n",
    "\n",
    "    print(f\"\\nSummary of Table {index}:\")\n",
    "    print(summary)\n",
    "    print(\"\\n\" + \"=\"*50 + \"\\n\")  # Separator for readability"
   ]
  },
  {
   "cell_type": "markdown",
   "metadata": {},
   "source": [
    "All good for Tables.<br>\n",
    "All pdf Text are in 'CompositeElement'. There are 2 types of element in the parsed documents.<br>\n",
    "<i>Now, next steps for getting summary from the images!"
   ]
  },
  {
   "cell_type": "code",
   "execution_count": null,
   "metadata": {},
   "outputs": [],
   "source": [
    "# Step 1: List all image files in the directory\n",
    "\n",
    "import re\n",
    "\n",
    "pattern = re.compile(r'f.*\\.(jpg|jpeg)$')\n",
    "image_files = [f for f in os.listdir(test_tables_figure_directory) if pattern.match(f)]\n",
    "\n",
    "summaries = []\n",
    "for index, image_file in enumerate(image_files):\n",
    "    # Construct the full path to the image\n",
    "    image_path = os.path.join(test_tables_figure_directory, image_file)\n",
    "    \n",
    "    # Optional: Load the image if you want to display or process it\n",
    "    # img = Image.open(image_path)  # Uncomment if you need to process the image\n",
    "\n",
    "    print(f\"Processing Image: {image_file}\")\n",
    "\n",
    "    # Prepare the prompt for summarization\n",
    "    prompt = f\"Please summarize the content of the following image: {image_file}\"\n",
    "\n",
    "    # Get the summary from the LLM using invoke\n",
    "    summary_response = chat_model.invoke(prompt)  # Pass the prompt as a string\n",
    "\n",
    "    # Access the content of the AIMessage response\n",
    "    summary = summary_response.content  # Use the 'content' attribute\n",
    "    summaries.append(summary)  # Store the summary\n",
    "\n",
    "    print(f\"Summary of Image {index}:\")\n",
    "    print(summary)\n",
    "    print(\"\\n\" + \"=\"*50 + \"\\n\")  # Separator for readability"
   ]
  },
  {
   "cell_type": "markdown",
   "metadata": {},
   "source": [
    "So, above failed. NOw, let's do it in different way with a helper function."
   ]
  },
  {
   "cell_type": "code",
   "execution_count": 40,
   "metadata": {},
   "outputs": [],
   "source": [
    "import base64\n",
    "# Function to encode images\n",
    "def encode_image(image_path):\n",
    "    with open(image_path, \"rb\") as image_file:\n",
    "        return base64.b64encode(image_file.read()).decode('utf-8')"
   ]
  },
  {
   "cell_type": "code",
   "execution_count": 73,
   "metadata": {},
   "outputs": [
    {
     "name": "stdout",
     "output_type": "stream",
     "text": [
      "58\n"
     ]
    }
   ],
   "source": [
    "image_elements = []\n",
    "\n",
    "pattern = re.compile(r'f.*\\.(jpg|jpeg)$')\n",
    "image_files = [f for f in os.listdir(test_tables_figure_directory) if pattern.match(f)]\n",
    "\n",
    "for image_file in os.listdir(test_tables_figure_directory):\n",
    "        image_path = os.path.join(test_tables_figure_directory, image_file)\n",
    "        encoded_image = encode_image(image_path)\n",
    "        image_elements.append(encoded_image)\n",
    "print(len(image_elements))"
   ]
  },
  {
   "cell_type": "markdown",
   "metadata": {},
   "source": [
    "<i> So, image_elements got 58 elements, but I have got 30 figure?!"
   ]
  },
  {
   "cell_type": "markdown",
   "metadata": {},
   "source": [
    "### ! Above example NOt worked, \n",
    "ANOTHER WAY, below which is the easiest and best way to summarize:"
   ]
  },
  {
   "cell_type": "code",
   "execution_count": 81,
   "metadata": {},
   "outputs": [],
   "source": [
    "from langchain_community.document_loaders import UnstructuredImageLoader\n",
    "from transformers import pipeline"
   ]
  },
  {
   "cell_type": "code",
   "execution_count": 84,
   "metadata": {},
   "outputs": [],
   "source": [
    "loader_for_image = UnstructuredImageLoader(\"figures_from_test/figure-90-27.jpg\")"
   ]
  },
  {
   "cell_type": "code",
   "execution_count": 85,
   "metadata": {},
   "outputs": [],
   "source": [
    "image_doc = loader_for_image.load()"
   ]
  },
  {
   "cell_type": "code",
   "execution_count": 86,
   "metadata": {},
   "outputs": [
    {
     "name": "stdout",
     "output_type": "stream",
     "text": [
      "Summerizing Image: table-9-4.jpg\n",
      "The content of the image appears to be related to a Total Safety Risk Matrix (TSRM), likely used for assessing safety risks. The mention of \"Figure 1.4.13 -RAF\" suggests that this is a specific figure from a larger document or report. Unfortunately, without seeing the actual image, I can't provide a detailed summary of its content or visual elements. If you can provide more information or describe the image, I can help further!\n"
     ]
    }
   ],
   "source": [
    "print(f\"Summerizing Image: {image_file}\")\n",
    "\n",
    "# Prepare the prompt for summarization\n",
    "prompt = f\"Please summarize the content of the following image: {image_doc}\"\n",
    "\n",
    "# Get the summary from the LLM using invoke\n",
    "summary_response = chat_model.invoke(prompt)  # Pass the prompt as a string\n",
    "\n",
    "# Access the content of the AIMessage response\n",
    "summary = summary_response.content  # Use the 'content' attribute\n",
    "#summaries.append(summary)  # Store the summary\n",
    "\n",
    "#print(f\"Summary of Image {index}:\")\n",
    "print(summary)"
   ]
  },
  {
   "cell_type": "markdown",
   "metadata": {},
   "source": [
    "The iamge was not clear to human eyes also. It can assumed that the output is partially correct."
   ]
  },
  {
   "cell_type": "markdown",
   "metadata": {},
   "source": [
    "Now, takinf another example of figure which is very clear and extracted properly."
   ]
  },
  {
   "cell_type": "code",
   "execution_count": 88,
   "metadata": {},
   "outputs": [],
   "source": [
    "\n",
    "loader_for_image2 = UnstructuredImageLoader(\"figures_from_test/figure-51-15.jpg\")\n",
    "image2_doc = loader_for_image2.load()"
   ]
  },
  {
   "cell_type": "code",
   "execution_count": 92,
   "metadata": {},
   "outputs": [
    {
     "name": "stdout",
     "output_type": "stream",
     "text": [
      "Summerizing Image: table-9-4.jpg\n",
      "Based on the text provided, it appears that the image is discussing a scale of likelihood or probability, which can relate to confidence in a statistical or decision-making context. The terms mentioned, such as \"Extremely Unlikely,\" \"Extremely Likely,\" and \"About as likely as not,\" suggest that the image is depicting a framework for assessing confidence in outcomes or events based on their likelihood of occurrence. This kind of scale is often used in various fields, including statistics, risk assessment, and legal contexts, to communicate the degree of certainty or uncertainty regarding specific scenarios.\n"
     ]
    }
   ],
   "source": [
    "print(f\"Summerizing Image: {image_file}\")\n",
    "\n",
    "# Prepare the prompt for summarization\n",
    "#prompt = f\"Please explain the content of the following image in detail: {image2_doc}\" # also works for detail explation of the image\n",
    "prompt = f\"Is the image taking about confidence: {image2_doc}\"\n",
    "\n",
    "# Get the summary from the LLM using invoke\n",
    "summary_response = chat_model.invoke(prompt)  # Pass the prompt as a string\n",
    "\n",
    "# Access the content of the AIMessage response\n",
    "summary = summary_response.content  # Use the 'content' attribute\n",
    "#summaries.append(summary)  # Store the summary\n",
    "\n",
    "#print(f\"Summary of Image {index}:\")\n",
    "print(summary)"
   ]
  },
  {
   "cell_type": "markdown",
   "metadata": {},
   "source": [
    "=== === The above experiement worked nicely. === ==="
   ]
  }
 ],
 "metadata": {
  "kernelspec": {
   "display_name": ".detectron2env",
   "language": "python",
   "name": "python3"
  },
  "language_info": {
   "codemirror_mode": {
    "name": "ipython",
    "version": 3
   },
   "file_extension": ".py",
   "mimetype": "text/x-python",
   "name": "python",
   "nbconvert_exporter": "python",
   "pygments_lexer": "ipython3",
   "version": "3.12.5"
  }
 },
 "nbformat": 4,
 "nbformat_minor": 2
}
